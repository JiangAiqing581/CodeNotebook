{
 "cells": [
  {
   "cell_type": "markdown",
   "metadata": {},
   "source": [
    "## HW 2.1"
   ]
  },
  {
   "cell_type": "markdown",
   "metadata": {},
   "source": [
    "### Make an R quantlet to solve HW #1 from unit 1 with R and show it on Github (GH)"
   ]
  },
  {
   "cell_type": "code",
   "execution_count": 1,
   "metadata": {},
   "outputs": [
    {
     "name": "stderr",
     "output_type": "stream",
     "text": [
      "Warning message:\n",
      "\"package 'readr' was built under R version 3.3.3\""
     ]
    }
   ],
   "source": [
    "library(readr)"
   ]
  },
  {
   "cell_type": "code",
   "execution_count": 2,
   "metadata": {},
   "outputs": [
    {
     "name": "stderr",
     "output_type": "stream",
     "text": [
      "Parsed with column specification:\n",
      "cols(\n",
      "  Year = col_integer(),\n",
      "  Byte = col_character()\n",
      ")\n"
     ]
    }
   ],
   "source": [
    "cpum <- read_csv(\"cpum.csv\",col_names = TRUE)"
   ]
  },
  {
   "cell_type": "code",
   "execution_count": 3,
   "metadata": {},
   "outputs": [
    {
     "data": {
      "image/png": "[encoded data removed]",
      "text/plain": [
       "Plot with title \"Memory of Computer\""
      ]
     },
     "metadata": {},
     "output_type": "display_data"
    }
   ],
   "source": [
    "par(mfrow = c(1, 1))\n",
    "plot(cpum,type=\"l\",xlab = \"Year\",ylab = \"Byte\",lwd=2,main = \"Memory of Computer\")"
   ]
  },
  {
   "cell_type": "markdown",
   "metadata": {},
   "source": [
    "## HW 2.2"
   ]
  },
  {
   "cell_type": "markdown",
   "metadata": {},
   "source": [
    "### Use R with B-spline code to solve HW#1, any comments?"
   ]
  },
  {
   "cell_type": "code",
   "execution_count": 4,
   "metadata": {},
   "outputs": [
    {
     "data": {
      "image/png": "[encoded data removed]",
      "text/plain": [
       "Plot with title \"Memory of Computer\""
      ]
     },
     "metadata": {},
     "output_type": "display_data"
    }
   ],
   "source": [
    "plot(cpum,type=\"l\",xlab = \"Year\",ylab = \"Byte\",lwd=2,main = \"Memory of Computer\")\n",
    "splines.reg.l1 = smooth.spline(x = cpum$Year, y = cpum$Byte, spar =0.2) # lambda = 0.2\n",
    "splines.reg.l2 = smooth.spline(x = cpum$Year, y = cpum$Byte, spar =1) # lambda = 1\n",
    "splines.reg.l3 = smooth.spline(x = cpum$Year, y = cpum$Byte, spar =2) # lambda = 2\n",
    "lines(splines.reg.l1, col = \"red\", lwd = 1) # regression line with lambda = 0.2\n",
    "lines(splines.reg.l2, col = \"green\", lwd = 1) # regression line with lambda = 1\n",
    "lines(splines.reg.l3, col = \"blue\", lwd = 1) # regression line with lambda = 2"
   ]
  },
  {
   "cell_type": "markdown",
   "metadata": {},
   "source": [
    "## HW 2.3"
   ]
  },
  {
   "cell_type": "markdown",
   "metadata": {},
   "source": [
    "### Suppose you observe that in n=1000 mails (in 1 week) you have about 2 scams. Use theLvB /Poisson cdf to calculate that you have 6 scam emails in 2 weeks. In Scammyland you have 5 scams on average, what is the probability to have no scam mail"
   ]
  },
  {
   "cell_type": "code",
   "execution_count": 5,
   "metadata": {},
   "outputs": [
    {
     "data": {
      "text/html": [
       "0.104195634567021"
      ],
      "text/latex": [
       "0.104195634567021"
      ],
      "text/markdown": [
       "0.104195634567021"
      ],
      "text/plain": [
       "[1] 0.1041956"
      ]
     },
     "metadata": {},
     "output_type": "display_data"
    }
   ],
   "source": [
    "lambda=4\n",
    "x=6\n",
    "P1=exp(-lambda)*lambda^x/factorial(x)\n",
    "P1"
   ]
  },
  {
   "cell_type": "code",
   "execution_count": 6,
   "metadata": {},
   "outputs": [
    {
     "data": {
      "text/html": [
       "0.00673794699908547"
      ],
      "text/latex": [
       "0.00673794699908547"
      ],
      "text/markdown": [
       "0.00673794699908547"
      ],
      "text/plain": [
       "[1] 0.006737947"
      ]
     },
     "metadata": {},
     "output_type": "display_data"
    }
   ],
   "source": [
    "lambda=5\n",
    "x=0\n",
    "P2=exp(-lambda)*lambda^x/factorial(x)\n",
    "P2"
   ]
  }
 ],
 "metadata": {
  "kernelspec": {
   "display_name": "R",
   "language": "R",
   "name": "ir"
  },
  "language_info": {
   "codemirror_mode": "r",
   "file_extension": ".r",
   "mimetype": "text/x-r-source",
   "name": "R",
   "pygments_lexer": "r",
   "version": "3.3.2"
  }
 },
 "nbformat": 4,
 "nbformat_minor": 2
}
