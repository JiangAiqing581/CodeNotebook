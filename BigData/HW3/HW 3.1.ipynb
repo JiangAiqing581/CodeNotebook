{
 "cells": [
  {
   "cell_type": "code",
   "execution_count": 1,
   "metadata": {
    "collapsed": true
   },
   "outputs": [],
   "source": [
    "library(\"digest\")"
   ]
  },
  {
   "cell_type": "code",
   "execution_count": 2,
   "metadata": {},
   "outputs": [
    {
     "data": {
      "text/html": [
       "'c16700de5a5c1961e279135f2be7dcf9c187cb6b21ac8032308c715e1ce9964c'"
      ],
      "text/latex": [
       "'c16700de5a5c1961e279135f2be7dcf9c187cb6b21ac8032308c715e1ce9964c'"
      ],
      "text/markdown": [
       "'c16700de5a5c1961e279135f2be7dcf9c187cb6b21ac8032308c715e1ce9964c'"
      ],
      "text/plain": [
       "[1] \"c16700de5a5c1961e279135f2be7dcf9c187cb6b21ac8032308c715e1ce9964c\""
      ]
     },
     "metadata": {},
     "output_type": "display_data"
    }
   ],
   "source": [
    "digest(\"I learn a lot from this class when I am proper listening to the professor\", \"sha256\")"
   ]
  },
  {
   "cell_type": "code",
   "execution_count": 3,
   "metadata": {},
   "outputs": [
    {
     "data": {
      "text/html": [
       "'2533d529768409d1c09d50451d9125fdbaa6e5fd4efdeb45c04e3c68bcb3a63e'"
      ],
      "text/latex": [
       "'2533d529768409d1c09d50451d9125fdbaa6e5fd4efdeb45c04e3c68bcb3a63e'"
      ],
      "text/markdown": [
       "'2533d529768409d1c09d50451d9125fdbaa6e5fd4efdeb45c04e3c68bcb3a63e'"
      ],
      "text/plain": [
       "[1] \"2533d529768409d1c09d50451d9125fdbaa6e5fd4efdeb45c04e3c68bcb3a63e\""
      ]
     },
     "metadata": {},
     "output_type": "display_data"
    }
   ],
   "source": [
    "digest(\"I do not learn a lot from this class when I am absent and playing on my Iphone\", \"sha256\")"
   ]
  },
  {
   "cell_type": "markdown",
   "metadata": {},
   "source": [
    "For the first sentence,the hash number is \n",
    "\"c16700de5a5c1961e279135f2be7dcf9c187cb6b21ac8032308c715e1ce9964c\"\n",
    "\n",
    "For the second sentence, the hash number is \n",
    "\"2533d529768409d1c09d50451d9125fdbaa6e5fd4efdeb45c04e3c68bcb3a63e\""
   ]
  }
 ],
 "metadata": {
  "kernelspec": {
   "display_name": "R",
   "language": "R",
   "name": "ir"
  },
  "language_info": {
   "codemirror_mode": "r",
   "file_extension": ".r",
   "mimetype": "text/x-r-source",
   "name": "R",
   "pygments_lexer": "r",
   "version": "3.3.2"
  },
  "toc": {
   "colors": {
    "hover_highlight": "#DAA520",
    "navigate_num": "#000000",
    "navigate_text": "#333333",
    "running_highlight": "#FF0000",
    "selected_highlight": "#FFD700",
    "sidebar_border": "#EEEEEE",
    "wrapper_background": "#FFFFFF"
   },
   "moveMenuLeft": true,
   "nav_menu": {
    "height": "12px",
    "width": "252px"
   },
   "navigate_menu": true,
   "number_sections": true,
   "sideBar": true,
   "threshold": 4,
   "toc_cell": false,
   "toc_section_display": "block",
   "toc_window_display": false,
   "widenNotebook": false
  }
 },
 "nbformat": 4,
 "nbformat_minor": 2
}
