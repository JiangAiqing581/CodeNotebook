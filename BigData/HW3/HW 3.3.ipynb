{
 "cells": [
  {
   "cell_type": "code",
   "execution_count": 3,
   "metadata": {
    "scrolled": false
   },
   "outputs": [
    {
     "name": "stdout",
     "output_type": "stream",
     "text": [
      "package 'rjson' successfully unpacked and MD5 sums checked\n",
      "\n",
      "The downloaded binary packages are in\n",
      "\tC:\\Users\\Aiqing-Jiang\\AppData\\Local\\Temp\\RtmpALLfAV\\downloaded_packages\n"
     ]
    }
   ],
   "source": [
    "install.packages(\"rjson\", repos=\"http://cran.us.r-project.org\")"
   ]
  },
  {
   "cell_type": "code",
   "execution_count": 4,
   "metadata": {},
   "outputs": [],
   "source": [
    "library(rjson)"
   ]
  },
  {
   "cell_type": "code",
   "execution_count": 5,
   "metadata": {},
   "outputs": [
    {
     "name": "stderr",
     "output_type": "stream",
     "text": [
      "\n",
      "Attaching package: 'jsonlite'\n",
      "\n",
      "The following objects are masked from 'package:rjson':\n",
      "\n",
      "    fromJSON, toJSON\n",
      "\n"
     ]
    }
   ],
   "source": [
    "library(jsonlite)"
   ]
  },
  {
   "cell_type": "code",
   "execution_count": 6,
   "metadata": {},
   "outputs": [],
   "source": [
    "json <-\n",
    "'[\n",
    "  {\"Name\" : \"Mario\", \"Age\" : 32, \"Occupation\" : \"Plumber\"}, \n",
    "  {\"Name\" : \"Peach\", \"Age\" : 21, \"Occupation\" : \"Princess\"},\n",
    "  {},\n",
    "  {\"Name\" : \"Bowser\", \"Occupation\" : \"Koopa\"}\n",
    "]'"
   ]
  },
  {
   "cell_type": "code",
   "execution_count": 7,
   "metadata": {},
   "outputs": [
    {
     "data": {
      "text/html": [
       "<table>\n",
       "<thead><tr><th scope=col>Name</th><th scope=col>Age</th><th scope=col>Occupation</th></tr></thead>\n",
       "<tbody>\n",
       "\t<tr><td>Mario   </td><td>32      </td><td>Plumber </td></tr>\n",
       "\t<tr><td>Peach   </td><td>21      </td><td>Princess</td></tr>\n",
       "\t<tr><td>NA      </td><td>NA      </td><td>NA      </td></tr>\n",
       "\t<tr><td>Bowser  </td><td>NA      </td><td>Koopa   </td></tr>\n",
       "</tbody>\n",
       "</table>\n"
      ],
      "text/latex": [
       "\\begin{tabular}{r|lll}\n",
       " Name & Age & Occupation\\\\\n",
       "\\hline\n",
       "\t Mario    & 32       & Plumber \\\\\n",
       "\t Peach    & 21       & Princess\\\\\n",
       "\t NA       & NA       & NA      \\\\\n",
       "\t Bowser   & NA       & Koopa   \\\\\n",
       "\\end{tabular}\n"
      ],
      "text/markdown": [
       "\n",
       "Name | Age | Occupation | \n",
       "|---|---|---|---|\n",
       "| Mario    | 32       | Plumber  | \n",
       "| Peach    | 21       | Princess | \n",
       "| NA       | NA       | NA       | \n",
       "| Bowser   | NA       | Koopa    | \n",
       "\n",
       "\n"
      ],
      "text/plain": [
       "  Name   Age Occupation\n",
       "1 Mario  32  Plumber   \n",
       "2 Peach  21  Princess  \n",
       "3 NA     NA  NA        \n",
       "4 Bowser NA  Koopa     "
      ]
     },
     "metadata": {},
     "output_type": "display_data"
    }
   ],
   "source": [
    "data_frame <- fromJSON(json)\n",
    "data_frame"
   ]
  },
  {
   "cell_type": "code",
   "execution_count": 9,
   "metadata": {},
   "outputs": [
    {
     "data": {
      "text/html": [
       "<table>\n",
       "<thead><tr><th scope=col>Name</th><th scope=col>Age</th><th scope=col>Occupation</th><th scope=col>Ranking</th></tr></thead>\n",
       "<tbody>\n",
       "\t<tr><td>Mario   </td><td>32      </td><td>Plumber </td><td>3       </td></tr>\n",
       "\t<tr><td>Peach   </td><td>21      </td><td>Princess</td><td>1       </td></tr>\n",
       "\t<tr><td>NA      </td><td>NA      </td><td>NA      </td><td>2       </td></tr>\n",
       "\t<tr><td>Bowser  </td><td>NA      </td><td>Koopa   </td><td>4       </td></tr>\n",
       "</tbody>\n",
       "</table>\n"
      ],
      "text/latex": [
       "\\begin{tabular}{r|llll}\n",
       " Name & Age & Occupation & Ranking\\\\\n",
       "\\hline\n",
       "\t Mario    & 32       & Plumber  & 3       \\\\\n",
       "\t Peach    & 21       & Princess & 1       \\\\\n",
       "\t NA       & NA       & NA       & 2       \\\\\n",
       "\t Bowser   & NA       & Koopa    & 4       \\\\\n",
       "\\end{tabular}\n"
      ],
      "text/markdown": [
       "\n",
       "Name | Age | Occupation | Ranking | \n",
       "|---|---|---|---|\n",
       "| Mario    | 32       | Plumber  | 3        | \n",
       "| Peach    | 21       | Princess | 1        | \n",
       "| NA       | NA       | NA       | 2        | \n",
       "| Bowser   | NA       | Koopa    | 4        | \n",
       "\n",
       "\n"
      ],
      "text/plain": [
       "  Name   Age Occupation Ranking\n",
       "1 Mario  32  Plumber    3      \n",
       "2 Peach  21  Princess   1      \n",
       "3 NA     NA  NA         2      \n",
       "4 Bowser NA  Koopa      4      "
      ]
     },
     "metadata": {},
     "output_type": "display_data"
    }
   ],
   "source": [
    "data_frame$Ranking <- c(3, 1, 2, 4)\n",
    "data_frame"
   ]
  },
  {
   "cell_type": "code",
   "execution_count": 10,
   "metadata": {},
   "outputs": [
    {
     "data": {
      "text/plain": [
       "[\n",
       "  {\n",
       "    \"Name\": \"Mario\",\n",
       "    \"Age\": 32,\n",
       "    \"Occupation\": \"Plumber\",\n",
       "    \"Ranking\": 3\n",
       "  },\n",
       "  {\n",
       "    \"Name\": \"Peach\",\n",
       "    \"Age\": 21,\n",
       "    \"Occupation\": \"Princess\",\n",
       "    \"Ranking\": 1\n",
       "  },\n",
       "  {\n",
       "    \"Ranking\": 2\n",
       "  },\n",
       "  {\n",
       "    \"Name\": \"Bowser\",\n",
       "    \"Occupation\": \"Koopa\",\n",
       "    \"Ranking\": 4\n",
       "  }\n",
       "] "
      ]
     },
     "metadata": {},
     "output_type": "display_data"
    }
   ],
   "source": [
    "toJSON(data_frame, pretty=TRUE)"
   ]
  },
  {
   "cell_type": "code",
   "execution_count": 12,
   "metadata": {},
   "outputs": [],
   "source": [
    "write_json(json,path=\"C:/Users/Aiqing-Jiang/1.json\")"
   ]
  },
  {
   "cell_type": "code",
   "execution_count": 13,
   "metadata": {},
   "outputs": [
    {
     "data": {
      "text/html": [
       "<ol>\n",
       "\t<li><span style=white-space:pre-wrap>'[\n",
       "  {\"Name\" : \"Mario\", \"Age\" : 32, \"Occupation\" : \"Plumber\"}, \n",
       "  {\"Name\" : \"Peach\", \"Age\" : 21, \"Occupation\" : \"Princess\"},\n",
       "  {},\n",
       "  {\"Name\" : \"Bowser\", \"Occupation\" : \"Koopa\"}\n",
       "]'</span></li>\n",
       "</ol>\n"
      ],
      "text/latex": [
       "\\begin{enumerate}\n",
       "\\item '{[}\n",
       "  \\{\"Name\" : \"Mario\", \"Age\" : 32, \"Occupation\" : \"Plumber\"\\}, \n",
       "  \\{\"Name\" : \"Peach\", \"Age\" : 21, \"Occupation\" : \"Princess\"\\},\n",
       "  \\{\\},\n",
       "  \\{\"Name\" : \"Bowser\", \"Occupation\" : \"Koopa\"\\}\n",
       "{]}'\n",
       "\\end{enumerate}\n"
      ],
      "text/markdown": [
       "1. <span style=white-space:pre-wrap>'[\n",
       "  {\"Name\" : \"Mario\", \"Age\" : 32, \"Occupation\" : \"Plumber\"}, \n",
       "  {\"Name\" : \"Peach\", \"Age\" : 21, \"Occupation\" : \"Princess\"},\n",
       "  {},\n",
       "  {\"Name\" : \"Bowser\", \"Occupation\" : \"Koopa\"}\n",
       "]'</span>\n",
       "\n",
       "\n"
      ],
      "text/plain": [
       "[[1]]\n",
       "[1] \"[\\n  {\\\"Name\\\" : \\\"Mario\\\", \\\"Age\\\" : 32, \\\"Occupation\\\" : \\\"Plumber\\\"}, \\n  {\\\"Name\\\" : \\\"Peach\\\", \\\"Age\\\" : 21, \\\"Occupation\\\" : \\\"Princess\\\"},\\n  {},\\n  {\\\"Name\\\" : \\\"Bowser\\\", \\\"Occupation\\\" : \\\"Koopa\\\"}\\n]\"\n"
      ]
     },
     "metadata": {},
     "output_type": "display_data"
    }
   ],
   "source": [
    "read_json(path=\"C:/Users/Aiqing-Jiang/1.json\",simplifyVector = FALSE)"
   ]
  }
 ],
 "metadata": {
  "kernelspec": {
   "display_name": "R",
   "language": "R",
   "name": "ir"
  },
  "language_info": {
   "codemirror_mode": "r",
   "file_extension": ".r",
   "mimetype": "text/x-r-source",
   "name": "R",
   "pygments_lexer": "r",
   "version": "3.3.2"
  }
 },
 "nbformat": 4,
 "nbformat_minor": 2
}
