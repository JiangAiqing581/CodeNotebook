{
 "cells": [
  {
   "cell_type": "code",
   "execution_count": 1,
   "metadata": {
    "collapsed": false
   },
   "outputs": [
    {
     "name": "stdout",
     "output_type": "stream",
     "text": [
      "this is a function\n",
      "1\n"
     ]
    }
   ],
   "source": [
    "def function():\n",
    "    print('this is a function')\n",
    "    a=1\n",
    "    print(a)\n",
    "\n",
    "function()"
   ]
  },
  {
   "cell_type": "code",
   "execution_count": 4,
   "metadata": {
    "collapsed": false
   },
   "outputs": [
    {
     "name": "stdout",
     "output_type": "stream",
     "text": [
      "the c is 6\n"
     ]
    }
   ],
   "source": [
    "def fun(a,b):\n",
    "    c=a*b\n",
    "    print('the c is' ,c)\n",
    "    \n",
    "fun(2,3)"
   ]
  },
  {
   "cell_type": "code",
   "execution_count": 5,
   "metadata": {
    "collapsed": false
   },
   "outputs": [
    {
     "name": "stdout",
     "output_type": "stream",
     "text": [
      "the c is 6\n"
     ]
    }
   ],
   "source": [
    "fun(a=2,b=3)"
   ]
  },
  {
   "cell_type": "markdown",
   "metadata": {},
   "source": [
    "#默认参数"
   ]
  },
  {
   "cell_type": "code",
   "execution_count": 13,
   "metadata": {
    "collapsed": false
   },
   "outputs": [
    {
     "name": "stdout",
     "output_type": "stream",
     "text": [
      "price: 1000 color: red brand: carmy second_hand: True\n"
     ]
    }
   ],
   "source": [
    "def sale_car(price,color,brand,second_hand):\n",
    "    print('price:',price,\n",
    "         'color:',color,\n",
    "         'brand:',brand,\n",
    "         'second_hand:',second_hand)\n",
    "\n",
    "sale_car(1000,'red','carmy',True)"
   ]
  },
  {
   "cell_type": "code",
   "execution_count": 14,
   "metadata": {
    "collapsed": false
   },
   "outputs": [
    {
     "name": "stdout",
     "output_type": "stream",
     "text": [
      "price: 1233 color: blue brand: carmy second_hand: True\n"
     ]
    }
   ],
   "source": [
    "def sale_car(price,color='red',brand='carmy',second_hand=True):\n",
    "    print('price:',price,\n",
    "         'color:',color,\n",
    "         'brand:',brand,\n",
    "         'second_hand:',second_hand)\n",
    "\n",
    "sale_car(1233,color='blue')"
   ]
  },
  {
   "cell_type": "code",
   "execution_count": null,
   "metadata": {
    "collapsed": true
   },
   "outputs": [],
   "source": []
  }
 ],
 "metadata": {
  "anaconda-cloud": {},
  "kernelspec": {
   "display_name": "Python [conda root]",
   "language": "python",
   "name": "conda-root-py"
  },
  "language_info": {
   "codemirror_mode": {
    "name": "ipython",
    "version": 3
   },
   "file_extension": ".py",
   "mimetype": "text/x-python",
   "name": "python",
   "nbconvert_exporter": "python",
   "pygments_lexer": "ipython3",
   "version": "3.5.2"
  }
 },
 "nbformat": 4,
 "nbformat_minor": 1
}
