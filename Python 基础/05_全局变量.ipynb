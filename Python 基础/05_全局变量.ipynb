{
 "cells": [
  {
   "cell_type": "code",
   "execution_count": 2,
   "metadata": {
    "collapsed": false,
    "scrolled": true
   },
   "outputs": [
    {
     "name": "stdout",
     "output_type": "stream",
     "text": [
      "10\n",
      "110\n"
     ]
    }
   ],
   "source": [
    "def fun():\n",
    "    a=10\n",
    "    print(a)\n",
    "    return a+100\n",
    "print(fun())"
   ]
  },
  {
   "cell_type": "markdown",
   "metadata": {},
   "source": [
    "###global variable 一般用大写，在任何地方都可以用到\n",
    "###local variable  只在函数内部可以使用"
   ]
  },
  {
   "cell_type": "code",
   "execution_count": 3,
   "metadata": {
    "collapsed": false
   },
   "outputs": [
    {
     "name": "stdout",
     "output_type": "stream",
     "text": [
      "100\n",
      "200\n"
     ]
    }
   ],
   "source": [
    "APPLE=100\n",
    "def fun():\n",
    "    a=APPLE\n",
    "    return a+100\n",
    "print(APPLE)\n",
    "print(fun())"
   ]
  },
  {
   "cell_type": "code",
   "execution_count": 6,
   "metadata": {
    "collapsed": false
   },
   "outputs": [
    {
     "name": "stdout",
     "output_type": "stream",
     "text": [
      "a past= None\n",
      "100\n",
      "120\n",
      "a now= 20\n"
     ]
    }
   ],
   "source": [
    "a=None\n",
    "print('a past=',a)\n",
    "def fun():\n",
    "    global a\n",
    "    a=20\n",
    "    return a+100\n",
    "print(APPLE)\n",
    "print(fun())\n",
    "print('a now=',a)\n",
    "###全局变量要先定义好，运行函数后全局变量就改变了"
   ]
  },
  {
   "cell_type": "code",
   "execution_count": null,
   "metadata": {
    "collapsed": true
   },
   "outputs": [],
   "source": []
  }
 ],
 "metadata": {
  "kernelspec": {
   "display_name": "Python [default]",
   "language": "python",
   "name": "python3"
  },
  "language_info": {
   "codemirror_mode": {
    "name": "ipython",
    "version": 3
   },
   "file_extension": ".py",
   "mimetype": "text/x-python",
   "name": "python",
   "nbconvert_exporter": "python",
   "pygments_lexer": "ipython3",
   "version": "3.5.2"
  }
 },
 "nbformat": 4,
 "nbformat_minor": 1
}
