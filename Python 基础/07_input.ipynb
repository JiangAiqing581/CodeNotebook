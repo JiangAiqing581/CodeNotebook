{
 "cells": [
  {
   "cell_type": "code",
   "execution_count": 2,
   "metadata": {
    "collapsed": false
   },
   "outputs": [
    {
     "name": "stdout",
     "output_type": "stream",
     "text": [
      "Please give a number:10\n",
      "This input number is: 10\n"
     ]
    }
   ],
   "source": [
    "a_input=input('Please give a number:')\n",
    "print('This input number is:',a_input)"
   ]
  },
  {
   "cell_type": "code",
   "execution_count": 5,
   "metadata": {
    "collapsed": false
   },
   "outputs": [
    {
     "name": "stdout",
     "output_type": "stream",
     "text": [
      "Please give a number:2\n",
      "See you next time\n"
     ]
    }
   ],
   "source": [
    "a_input=input('Please give a number:')#return a string\n",
    "if a_input== str(1):\n",
    "    print('This is a good one')\n",
    "elif a_input== str(2):\n",
    "    print('See you next time')\n",
    "else:\n",
    "    print('Good Luck')"
   ]
  },
  {
   "cell_type": "code",
   "execution_count": 6,
   "metadata": {
    "collapsed": false
   },
   "outputs": [
    {
     "name": "stdout",
     "output_type": "stream",
     "text": [
      "Please give a number:2\n",
      "See you next time\n"
     ]
    }
   ],
   "source": [
    "a_input=int(input('Please give a number:'))#return a string\n",
    "if a_input== 1:\n",
    "    print('This is a good one')\n",
    "elif a_input== 2:\n",
    "    print('See you next time')\n",
    "else:\n",
    "    print('Good Luck')"
   ]
  },
  {
   "cell_type": "code",
   "execution_count": null,
   "metadata": {
    "collapsed": true
   },
   "outputs": [],
   "source": []
  }
 ],
 "metadata": {
  "kernelspec": {
   "display_name": "Python [conda root]",
   "language": "python",
   "name": "conda-root-py"
  },
  "language_info": {
   "codemirror_mode": {
    "name": "ipython",
    "version": 3
   },
   "file_extension": ".py",
   "mimetype": "text/x-python",
   "name": "python",
   "nbconvert_exporter": "python",
   "pygments_lexer": "ipython3",
   "version": "3.5.2"
  }
 },
 "nbformat": 4,
 "nbformat_minor": 1
}
