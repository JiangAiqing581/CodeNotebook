{
 "cells": [
  {
   "cell_type": "code",
   "execution_count": 7,
   "metadata": {
    "collapsed": false
   },
   "outputs": [],
   "source": [
    "# Load in packages\n",
    "from pandas_datareader import data as DataReader\n",
    "from datetime import datetime\n",
    "import numpy as np\n",
    "import pandas as p\n",
    "from itertools import chain\n",
    "import matplotlib.pyplot as plt\n",
    "import operator\n",
    "import sys\n",
    "\n",
    "%matplotlib inline"
   ]
  },
  {
   "cell_type": "code",
   "execution_count": 8,
   "metadata": {
    "collapsed": false
   },
   "outputs": [],
   "source": [
    "################################################################################\n",
    "# CHOOSE WHICH TRAIN DATASET TO USE\n",
    "################################################################################\n",
    "train = np.array(p.read_table('C:/Users/Aiqing-Jiang/Desktop/stock_market_prediction-master/training.csv', sep = \",\"))\n"
   ]
  },
  {
   "cell_type": "code",
   "execution_count": 9,
   "metadata": {
    "collapsed": true
   },
   "outputs": [],
   "source": [
    "################################################################################\n",
    "# READ IN THE KAGGLE TRAIN DATA\n",
    "################################################################################\n",
    "\"\"\"\n",
    "Function\n",
    "--------\n",
    "normalize10day\n",
    "\n",
    "Replaces all min/max/vol data with 0, and divides all stock data\\\n",
    "by the opening price on the first day\n",
    "\n",
    "Inputs\n",
    "-------\n",
    "stocks : (Nexample, Nfeature) array\n",
    "        data for stocks, with 10 days of OPEN, MIN, MAX, CLOSE, VOL respectively\n",
    "\"\"\"   \n",
    "def normalize10day(stocks):\n",
    "    def process_column(i):\n",
    "        if operator.mod(i, 5) == 1:\n",
    "            return stocks[:,i] * 0\n",
    "        if operator.mod(i, 5) == 2:\n",
    "            return stocks[:,i] * 0\n",
    "        if operator.mod(i, 5) == 4:\n",
    "            return stocks[:,i] * 0\n",
    "            #return np.log(stocks[:,i] + 1)\n",
    "        else:\n",
    "            return stocks[:,i] / stocks[:,0]\n",
    "    n = stocks.shape[0]\n",
    "    stocks_dat =  np.array([ process_column(i) for i in range(46)]).transpose()\n",
    "    return stocks_dat\n",
    "\n",
    "if train.shape[0] == 94: # if we're using the kaggle training data\n",
    "    n_windows = 490\n",
    "    windows = range(n_windows)\n",
    "    \n",
    "    # we convert the 500 day data into a stack of 10 day data.\n",
    "    X_windows = [train[:,range(1 + 5*w, 47 + 5*w)] for w in windows]\n",
    "    X_windows_normalized = [normalize10day(w) for w in X_windows]\n",
    "    \n",
    "    X = np.vstack(X_windows_normalized)\n",
    "    \n",
    "    # read in the response variable and convert to indicators\n",
    "    y_stockdata = np.vstack([train[:, [46 + 5*w, 49 + 5*w]] for w in windows])\n",
    "    y = (y_stockdata[:,1] > y_stockdata[:,0]) + 0\n",
    "    \n",
    "################################################################################\n",
    "# READ IN THE MODERN TRAIN DATA\n",
    "################################################################################\n",
    "\n",
    "else:\n",
    "    # chain.from_iterable is basically a \"flatten\" function, that takes a list of lists and \n",
    "    # converts it to one list\n",
    "    # columns we want are just the opening and closing prices\n",
    "    columns_we_want = list(chain.from_iterable([[5 * x, 5 * x + 3] for x in range(10)]))[:-1]\n",
    "    \n",
    "    # we get our matrix of open and close prices, and normalize the data such that all data\n",
    "    # is divided by the opening price on the first day\n",
    "    X = np.array([l/l[0] for l in train[:, columns_we_want]])\n",
    "    \n",
    "    # we make indicators of whether or not the stock went up that day.\n",
    "    y = (train[:, 48] > train[:, 45]) + 0\n",
    "\n"
   ]
  },
  {
   "cell_type": "code",
   "execution_count": null,
   "metadata": {
    "collapsed": true
   },
   "outputs": [],
   "source": []
  }
 ],
 "metadata": {
  "kernelspec": {
   "display_name": "Python [conda env:py27]",
   "language": "python",
   "name": "conda-env-py27-py"
  },
  "language_info": {
   "codemirror_mode": {
    "name": "ipython",
    "version": 2
   },
   "file_extension": ".py",
   "mimetype": "text/x-python",
   "name": "python",
   "nbconvert_exporter": "python",
   "pygments_lexer": "ipython2",
   "version": "2.7.12"
  }
 },
 "nbformat": 4,
 "nbformat_minor": 1
}
